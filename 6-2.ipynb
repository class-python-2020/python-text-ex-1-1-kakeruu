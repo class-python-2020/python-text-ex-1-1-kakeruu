{
 "metadata": {
  "language_info": {
   "codemirror_mode": {
    "name": "ipython",
    "version": 3
   },
   "file_extension": ".py",
   "mimetype": "text/x-python",
   "name": "python",
   "nbconvert_exporter": "python",
   "pygments_lexer": "ipython3",
   "version": "3.8.2-final"
  },
  "orig_nbformat": 2,
  "kernelspec": {
   "name": "python38232bit41e923711097462490982d4db6afe68e",
   "display_name": "Python 3.8.2 32-bit"
  }
 },
 "nbformat": 4,
 "nbformat_minor": 2,
 "cells": [
  {
   "cell_type": "code",
   "execution_count": 1,
   "metadata": {
    "tags": []
   },
   "outputs": [
    {
     "output_type": "stream",
     "name": "stdout",
     "text": "abc\nggg\nuds\n"
    }
   ],
   "source": [
    "class MyClass1:\n",
    "    def __init__(self,text='abc'):\n",
    "        self.text = text\n",
    "a = MyClass1()\n",
    "b = MyClass1(text='ggg')\n",
    "c = MyClass1(text='uds')\n",
    "print(a.text)\n",
    "print(b.text)\n",
    "print(c.text)"
   ]
  },
  {
   "cell_type": "code",
   "execution_count": 2,
   "metadata": {},
   "outputs": [
    {
     "output_type": "execute_result",
     "data": {
      "text/plain": "'xyz'"
     },
     "metadata": {},
     "execution_count": 2
    }
   ],
   "source": [
    "a.text = 'xyz'\n",
    "a.text"
   ]
  },
  {
   "cell_type": "code",
   "execution_count": 3,
   "metadata": {},
   "outputs": [
    {
     "output_type": "execute_result",
     "data": {
      "text/plain": "'another text'"
     },
     "metadata": {},
     "execution_count": 3
    }
   ],
   "source": [
    "a.new_text = 'another text'\n",
    "a.new_text"
   ]
  },
  {
   "cell_type": "code",
   "execution_count": 4,
   "metadata": {
    "tags": []
   },
   "outputs": [
    {
     "output_type": "stream",
     "name": "stdout",
     "text": "class value\n"
    }
   ],
   "source": [
    "class MyClass2:\n",
    "    common_text = 'class value'\n",
    "print(MyClass2.common_text)"
   ]
  },
  {
   "cell_type": "code",
   "execution_count": 5,
   "metadata": {},
   "outputs": [
    {
     "output_type": "execute_result",
     "data": {
      "text/plain": "'new class value'"
     },
     "metadata": {},
     "execution_count": 5
    }
   ],
   "source": [
    "MyClass2.common_text = 'new class value'\n",
    "MyClass2.common_text"
   ]
  },
  {
   "cell_type": "code",
   "execution_count": 6,
   "metadata": {},
   "outputs": [
    {
     "output_type": "execute_result",
     "data": {
      "text/plain": "'another attribute member'"
     },
     "metadata": {},
     "execution_count": 6
    }
   ],
   "source": [
    "MyClass2.new_common_text = 'another attribute member'\n",
    "MyClass2.new_common_text"
   ]
  },
  {
   "cell_type": "code",
   "execution_count": 8,
   "metadata": {},
   "outputs": [],
   "source": [
    "class Triangle:\n",
    "    num_tri = 0\n",
    "    def __init__(self,base=0,height=0):\n",
    "        self.base = base\n",
    "        self.height = height\n",
    "        Triangle.num_tri += 1\n",
    "    def find_area(self):\n",
    "        b = self.base\n",
    "        h = self.height\n",
    "        return b * h / 2.0"
   ]
  },
  {
   "cell_type": "code",
   "execution_count": 9,
   "metadata": {},
   "outputs": [
    {
     "output_type": "execute_result",
     "data": {
      "text/plain": "0.5"
     },
     "metadata": {},
     "execution_count": 9
    }
   ],
   "source": [
    "t1 = Triangle(1,1)\n",
    "t1.find_area()"
   ]
  },
  {
   "cell_type": "code",
   "execution_count": 10,
   "metadata": {},
   "outputs": [
    {
     "output_type": "execute_result",
     "data": {
      "text/plain": "1"
     },
     "metadata": {},
     "execution_count": 10
    }
   ],
   "source": [
    "Triangle.num_tri"
   ]
  },
  {
   "cell_type": "code",
   "execution_count": 11,
   "metadata": {},
   "outputs": [
    {
     "output_type": "execute_result",
     "data": {
      "text/plain": "2"
     },
     "metadata": {},
     "execution_count": 11
    }
   ],
   "source": [
    "t2 = Triangle(2,2)\n",
    "Triangle.num_tri"
   ]
  },
  {
   "cell_type": "code",
   "execution_count": 12,
   "metadata": {},
   "outputs": [
    {
     "output_type": "execute_result",
     "data": {
      "text/plain": "3"
     },
     "metadata": {},
     "execution_count": 12
    }
   ],
   "source": [
    "t3 = Triangle(3,5)\n",
    "Triangle.num_tri"
   ]
  },
  {
   "cell_type": "code",
   "execution_count": 13,
   "metadata": {},
   "outputs": [
    {
     "output_type": "execute_result",
     "data": {
      "text/plain": "(3, 3, 3, 3)"
     },
     "metadata": {},
     "execution_count": 13
    }
   ],
   "source": [
    "t1.num_tri,t2.num_tri,t3.num_tri,Triangle.num_tri"
   ]
  },
  {
   "cell_type": "code",
   "execution_count": 14,
   "metadata": {},
   "outputs": [
    {
     "output_type": "execute_result",
     "data": {
      "text/plain": "(5, 3, 3, 3)"
     },
     "metadata": {},
     "execution_count": 14
    }
   ],
   "source": [
    "t1.num_tri = 5\n",
    "t1.num_tri,t2.num_tri,t3.num_tri,Triangle.num_tri"
   ]
  },
  {
   "cell_type": "code",
   "execution_count": 16,
   "metadata": {},
   "outputs": [
    {
     "output_type": "execute_result",
     "data": {
      "text/plain": "(5, 6, 6, 6)"
     },
     "metadata": {},
     "execution_count": 16
    }
   ],
   "source": [
    "Triangle.num_tri = 6\n",
    "t1.num_tri,t2.num_tri,t3.num_tri,Triangle.num_tri"
   ]
  },
  {
   "cell_type": "code",
   "execution_count": 18,
   "metadata": {},
   "outputs": [],
   "source": [
    "class Sample:\n",
    "    def __init__(self):\n",
    "        self.a=1\n",
    "        self._b=1\n",
    "        self.__c=1\n",
    "        self.__d_=1\n",
    "        self.__e__=1\n",
    "    def show_attribute(self):\n",
    "        a=self.a=1\n",
    "        b=self._b=1\n",
    "        c=self.__c=1\n",
    "        d=self.__d_=1\n",
    "        e=self.__e__=1\n",
    "        print('a:{},b:{},c:{},d:{},e:{}'.format(a,b,c,d,e))"
   ]
  },
  {
   "cell_type": "code",
   "execution_count": 19,
   "metadata": {
    "tags": []
   },
   "outputs": [
    {
     "output_type": "stream",
     "name": "stdout",
     "text": "a:1,b:1,c:1,d:1,e:1\n"
    }
   ],
   "source": [
    "s = Sample()\n",
    "s.show_attribute()"
   ]
  },
  {
   "cell_type": "code",
   "execution_count": 20,
   "metadata": {},
   "outputs": [
    {
     "output_type": "execute_result",
     "data": {
      "text/plain": "1"
     },
     "metadata": {},
     "execution_count": 20
    }
   ],
   "source": [
    "s.a"
   ]
  },
  {
   "cell_type": "code",
   "execution_count": 21,
   "metadata": {},
   "outputs": [
    {
     "output_type": "execute_result",
     "data": {
      "text/plain": "1"
     },
     "metadata": {},
     "execution_count": 21
    }
   ],
   "source": [
    "s._b"
   ]
  },
  {
   "cell_type": "code",
   "execution_count": 24,
   "metadata": {},
   "outputs": [
    {
     "output_type": "error",
     "ename": "AttributeError",
     "evalue": "'Sample' object has no attribute '__c'",
     "traceback": [
      "\u001b[1;31m---------------------------------------------------------------------------\u001b[0m",
      "\u001b[1;31mAttributeError\u001b[0m                            Traceback (most recent call last)",
      "\u001b[1;32m<ipython-input-24-85e4a3ad4e9c>\u001b[0m in \u001b[0;36m<module>\u001b[1;34m\u001b[0m\n\u001b[1;32m----> 1\u001b[1;33m \u001b[0ms\u001b[0m\u001b[1;33m.\u001b[0m\u001b[0m__c\u001b[0m\u001b[1;33m\u001b[0m\u001b[1;33m\u001b[0m\u001b[0m\n\u001b[0m",
      "\u001b[1;31mAttributeError\u001b[0m: 'Sample' object has no attribute '__c'"
     ]
    }
   ],
   "source": [
    "s.__c"
   ]
  },
  {
   "cell_type": "code",
   "execution_count": 25,
   "metadata": {},
   "outputs": [
    {
     "output_type": "execute_result",
     "data": {
      "text/plain": "(2, 2, 2, 2, 2)"
     },
     "metadata": {},
     "execution_count": 25
    }
   ],
   "source": [
    "s.a = 2\n",
    "s._b = 2\n",
    "s.__c = 2\n",
    "s.__d_ = 2\n",
    "s.__e__ = 2\n",
    "s.a,s._b,s.__c,s.__d_,s.__e__"
   ]
  },
  {
   "cell_type": "code",
   "execution_count": 29,
   "metadata": {},
   "outputs": [],
   "source": [
    "class Cylinder:\n",
    "    pi = 3.14\n",
    "    def __init__(self,radius,height):\n",
    "        self.radius = float(radius)\n",
    "        self.height = float(height)\n",
    "    def c_b_a(self):\n",
    "        pi = Cylinder.pi\n",
    "        r = self.radius\n",
    "        return pi * r * r\n",
    "    def c_s_a(self):\n",
    "        pi = Cylinder.pi\n",
    "        r = self.radius\n",
    "        h = self.height\n",
    "        return 2 * pi * r * hasattr\n",
    "    def c_sf_a(self):\n",
    "        c = self.c_b_a()\n",
    "        s = self.c_s_a()\n",
    "        return 2 * c + s\n",
    "    def c_v(self):\n",
    "        c = self.c_b_a()\n",
    "        h = self.height\n",
    "        return c * h\n",
    "    def s_r(self):\n",
    "        r = self.radius\n",
    "        h = self.height\n",
    "        s = self.c_sf_a()\n",
    "        v = self.c_v()\n",
    "        print('半径:{},高さ:{},表面積:{},体積:{}'.format(r,h,s,v))"
   ]
  }
 ]
}