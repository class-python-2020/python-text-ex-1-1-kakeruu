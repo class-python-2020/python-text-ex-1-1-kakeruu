{
 "metadata": {
  "language_info": {
   "codemirror_mode": {
    "name": "ipython",
    "version": 3
   },
   "file_extension": ".py",
   "mimetype": "text/x-python",
   "name": "python",
   "nbconvert_exporter": "python",
   "pygments_lexer": "ipython3",
   "version": "3.8.2-final"
  },
  "orig_nbformat": 2,
  "kernelspec": {
   "name": "python38232bit41e923711097462490982d4db6afe68e",
   "display_name": "Python 3.8.2 32-bit"
  }
 },
 "nbformat": 4,
 "nbformat_minor": 2,
 "cells": [
  {
   "cell_type": "code",
   "execution_count": 1,
   "metadata": {},
   "outputs": [
    {
     "output_type": "execute_result",
     "data": {
      "text/plain": "3.141592653589793"
     },
     "metadata": {},
     "execution_count": 1
    }
   ],
   "source": [
    "import math\n",
    "math.pi"
   ]
  },
  {
   "cell_type": "code",
   "execution_count": 2,
   "metadata": {},
   "outputs": [
    {
     "output_type": "error",
     "ename": "NameError",
     "evalue": "name 'prit' is not defined",
     "traceback": [
      "\u001b[1;31m---------------------------------------------------------------------------\u001b[0m",
      "\u001b[1;31mNameError\u001b[0m                                 Traceback (most recent call last)",
      "\u001b[1;32m<ipython-input-2-22db84e638f6>\u001b[0m in \u001b[0;36m<module>\u001b[1;34m\u001b[0m\n\u001b[0;32m      1\u001b[0m \u001b[1;32mimport\u001b[0m \u001b[0mmy_module\u001b[0m\u001b[1;33m\u001b[0m\u001b[1;33m\u001b[0m\u001b[0m\n\u001b[0;32m      2\u001b[0m \u001b[0mmy_module_attri\u001b[0m \u001b[1;33m=\u001b[0m \u001b[0mdir\u001b[0m\u001b[1;33m(\u001b[0m\u001b[0mmy_module\u001b[0m\u001b[1;33m)\u001b[0m\u001b[1;33m\u001b[0m\u001b[1;33m\u001b[0m\u001b[0m\n\u001b[1;32m----> 3\u001b[1;33m \u001b[0mprit\u001b[0m\u001b[1;33m(\u001b[0m\u001b[0mmy_module_attri\u001b[0m\u001b[1;33m)\u001b[0m\u001b[1;33m\u001b[0m\u001b[1;33m\u001b[0m\u001b[0m\n\u001b[0m",
      "\u001b[1;31mNameError\u001b[0m: name 'prit' is not defined"
     ]
    }
   ],
   "source": [
    "import my_module\n",
    "my_module_attri = dir(my_module)\n",
    "prit(my_module_attri)"
   ]
  },
  {
   "cell_type": "code",
   "execution_count": 6,
   "metadata": {
    "tags": []
   },
   "outputs": [
    {
     "output_type": "stream",
     "name": "stdout",
     "text": "In the global  : initial initial initial initial\nafter local    : test test test test\nafter nonlocal : test test nonlocal test\nafter global   : test test nonlocal test\nafter func call: initial initial initial global\n"
    }
   ],
   "source": [
    "def scope_test():\n",
    "    def do_local():\n",
    "        s1 = 'local'\n",
    "    def do_nonlocal():\n",
    "        nonlocal s2\n",
    "        s2 = 'nonlocal'\n",
    "    def do_global():\n",
    "        global s3\n",
    "        s3 = 'global'\n",
    "    s0 = s1 = s2 = s3 = 'test'\n",
    "    do_local()\n",
    "    print('after local    :',s0,s1,s2,s3)\n",
    "    do_nonlocal()\n",
    "    print('after nonlocal :',s0,s1,s2,s3)\n",
    "    do_global()\n",
    "    print('after global   :',s0,s1,s2,s3)\n",
    "s0 = s1 = s2 = s3 = 'initial'\n",
    "print('In the global  :',s0,s1,s2,s3)\n",
    "scope_test()\n",
    "print('after func call:',s0,s1,s2,s3)"
   ]
  },
  {
   "cell_type": "code",
   "execution_count": 7,
   "metadata": {
    "tags": []
   },
   "outputs": [
    {
     "output_type": "stream",
     "name": "stdout",
     "text": "in event1: happy -> after event1: happy\nin event2: sad -> after event2: happy\nin event3: Tired -> after event3: Tired\nin event4: excite -> after event4: Tired\nin event5: scare -> after event5: Tired\n"
    }
   ],
   "source": [
    "x = 'happy'\n",
    "def event1():\n",
    "    print('in event1:',x,end=' -> ')\n",
    "def event2():\n",
    "    x = 'sad'\n",
    "    print('in event2:',x,end=' -> ')\n",
    "def event3():\n",
    "    global x\n",
    "    x = 'Tired'\n",
    "    print('in event3:',x,end=' -> ')\n",
    "def event4():\n",
    "    x = 'excite'\n",
    "    def happening():\n",
    "        print('in event4:',x,end=' -> ')\n",
    "    happening()\n",
    "def event5():\n",
    "    x = 'fun'\n",
    "    def happening():\n",
    "        nonlocal x\n",
    "        x = 'scare'\n",
    "    happening()\n",
    "    print('in event5:',x,end=' -> ')\n",
    "func_list = [event1,event2,event3,event4,event5]\n",
    "for f in func_list:\n",
    "    f()\n",
    "    print('after {}: {}'.format(f.__name__,x))"
   ]
  }
 ]
}