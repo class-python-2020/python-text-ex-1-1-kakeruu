{
 "metadata": {
  "language_info": {
   "codemirror_mode": {
    "name": "ipython",
    "version": 3
   },
   "file_extension": ".py",
   "mimetype": "text/x-python",
   "name": "python",
   "nbconvert_exporter": "python",
   "pygments_lexer": "ipython3",
   "version": "3.8.2-final"
  },
  "orig_nbformat": 2,
  "kernelspec": {
   "name": "python38232bit41e923711097462490982d4db6afe68e",
   "display_name": "Python 3.8.2 32-bit"
  }
 },
 "nbformat": 4,
 "nbformat_minor": 2,
 "cells": [
  {
   "cell_type": "code",
   "execution_count": 1,
   "metadata": {},
   "outputs": [],
   "source": [
    "import pathlib\n",
    "p = pathlib.Path(',')"
   ]
  },
  {
   "cell_type": "code",
   "execution_count": 2,
   "metadata": {},
   "outputs": [],
   "source": [
    "import pathlib\n",
    "file = pathlib.Path('sample.txt')"
   ]
  },
  {
   "cell_type": "code",
   "execution_count": 3,
   "metadata": {},
   "outputs": [
    {
     "output_type": "error",
     "ename": "AttributeError",
     "evalue": "'WindowsPath' object has no attribute 'reslove'",
     "traceback": [
      "\u001b[1;31m---------------------------------------------------------------------------\u001b[0m",
      "\u001b[1;31mAttributeError\u001b[0m                            Traceback (most recent call last)",
      "\u001b[1;32m<ipython-input-3-8edd21a9089d>\u001b[0m in \u001b[0;36m<module>\u001b[1;34m\u001b[0m\n\u001b[1;32m----> 1\u001b[1;33m \u001b[0mp\u001b[0m\u001b[1;33m.\u001b[0m\u001b[0mreslove\u001b[0m\u001b[1;33m(\u001b[0m\u001b[1;33m)\u001b[0m\u001b[1;33m\u001b[0m\u001b[1;33m\u001b[0m\u001b[0m\n\u001b[0m",
      "\u001b[1;31mAttributeError\u001b[0m: 'WindowsPath' object has no attribute 'reslove'"
     ]
    }
   ],
   "source": [
    "p.reslove()"
   ]
  },
  {
   "cell_type": "code",
   "execution_count": 4,
   "metadata": {},
   "outputs": [
    {
     "output_type": "error",
     "ename": "AttributeError",
     "evalue": "module 'pathlib' has no attribute 'pathlib'",
     "traceback": [
      "\u001b[1;31m---------------------------------------------------------------------------\u001b[0m",
      "\u001b[1;31mAttributeError\u001b[0m                            Traceback (most recent call last)",
      "\u001b[1;32m<ipython-input-4-e7d0d917d6d4>\u001b[0m in \u001b[0;36m<module>\u001b[1;34m\u001b[0m\n\u001b[0;32m      1\u001b[0m \u001b[1;32mimport\u001b[0m \u001b[0mpathlib\u001b[0m\u001b[1;33m\u001b[0m\u001b[1;33m\u001b[0m\u001b[0m\n\u001b[1;32m----> 2\u001b[1;33m \u001b[0mq\u001b[0m \u001b[1;33m=\u001b[0m \u001b[0mpathlib\u001b[0m\u001b[1;33m.\u001b[0m\u001b[0mpathlib\u001b[0m\u001b[1;33m.\u001b[0m\u001b[0mPath\u001b[0m\u001b[1;33m(\u001b[0m\u001b[1;34m'sample.txt'\u001b[0m\u001b[1;33m)\u001b[0m\u001b[1;33m\u001b[0m\u001b[1;33m\u001b[0m\u001b[0m\n\u001b[0m\u001b[0;32m      3\u001b[0m \u001b[0mqs\u001b[0m \u001b[1;33m=\u001b[0m \u001b[0mstr\u001b[0m\u001b[1;33m(\u001b[0m\u001b[0mq\u001b[0m\u001b[1;33m)\u001b[0m\u001b[1;33m\u001b[0m\u001b[1;33m\u001b[0m\u001b[0m\n",
      "\u001b[1;31mAttributeError\u001b[0m: module 'pathlib' has no attribute 'pathlib'"
     ]
    }
   ],
   "source": [
    "import pathlib\n",
    "q = pathlib.pathlib.Path('sample.txt')\n",
    "qs = str(q)"
   ]
  },
  {
   "cell_type": "code",
   "execution_count": 7,
   "metadata": {
    "tags": []
   },
   "outputs": [
    {
     "output_type": "stream",
     "name": "stdout",
     "text": ".ipynb_checkpoints\njupyter_notebook_config.py\nmy_math.py\nmy_math2.py\nmy_module.py\nout_test.txt\nUntitled.ipynb\nUntitled1.ipynb\nUntitled10.ipynb\nUntitled100.ipynb\nUntitled101.ipynb\nUntitled11.ipynb\nUntitled12.ipynb\nUntitled13.ipynb\nUntitled14.ipynb\nUntitled15.ipynb\nUntitled16.ipynb\nUntitled17.ipynb\nUntitled18.ipynb\nUntitled19.ipynb\nUntitled2.ipynb\nUntitled20.ipynb\nUntitled21.ipynb\nUntitled22.ipynb\nUntitled23.ipynb\nUntitled24.ipynb\nUntitled25.ipynb\nUntitled26.ipynb\nUntitled27.ipynb\nUntitled28.ipynb\nUntitled29.ipynb\nUntitled3.ipynb\nUntitled30.ipynb\nUntitled31.ipynb\nUntitled32.ipynb\nUntitled33.ipynb\nUntitled34.ipynb\nUntitled35.ipynb\nUntitled36.ipynb\nUntitled37.ipynb\nUntitled38.ipynb\nUntitled39.ipynb\nUntitled4.ipynb\nUntitled40.ipynb\nUntitled41.ipynb\nUntitled42.ipynb\nUntitled43.ipynb\nUntitled44.ipynb\nUntitled45.ipynb\nUntitled46.ipynb\nUntitled47.ipynb\nUntitled48.ipynb\nUntitled49.ipynb\nUntitled5.ipynb\nUntitled50.ipynb\nUntitled51.ipynb\nUntitled52.ipynb\nUntitled53.ipynb\nUntitled54.ipynb\nUntitled55.ipynb\nUntitled56.ipynb\nUntitled57.ipynb\nUntitled58.ipynb\nUntitled59.ipynb\nUntitled6.ipynb\nUntitled60.ipynb\nUntitled61.ipynb\nUntitled62.ipynb\nUntitled63.ipynb\nUntitled64.ipynb\nUntitled65.ipynb\nUntitled66.ipynb\nUntitled67.ipynb\nUntitled68.ipynb\nUntitled69.ipynb\nUntitled7.ipynb\nUntitled70.ipynb\nUntitled71.ipynb\nUntitled72.ipynb\nUntitled73.ipynb\nUntitled74.ipynb\nUntitled75.ipynb\nUntitled76.ipynb\nUntitled77.ipynb\nUntitled78.ipynb\nUntitled79.ipynb\nUntitled8.ipynb\nUntitled80.ipynb\nUntitled81.ipynb\nUntitled82.ipynb\nUntitled83.ipynb\nUntitled84.ipynb\nUntitled85.ipynb\nUntitled86.ipynb\nUntitled87.ipynb\nUntitled88.ipynb\nUntitled89.ipynb\nUntitled9.ipynb\nUntitled90.ipynb\nUntitled91.ipynb\nUntitled92.ipynb\nUntitled93.ipynb\nUntitled94.ipynb\nUntitled95.ipynb\nUntitled96.ipynb\nUntitled97.ipynb\nUntitled98.ipynb\nUntitled99.ipynb\n__pycache__\n"
    }
   ],
   "source": [
    "import pathlib\n",
    "p = pathlib.Path('.')\n",
    "for fd in p.iterdir():\n",
    "    print(fd)"
   ]
  },
  {
   "cell_type": "code",
   "execution_count": 6,
   "metadata": {
    "tags": []
   },
   "outputs": [
    {
     "output_type": "stream",
     "name": "stdout",
     "text": "[WindowsPath('jupyter_notebook_config.py'), WindowsPath('my_math.py'), WindowsPath('my_math2.py'), WindowsPath('my_module.py')]\n"
    }
   ],
   "source": [
    "import pathlib\n",
    "p = pathlib.Path('.')\n",
    "print(list(p.glob('*.py')))"
   ]
  },
  {
   "cell_type": "code",
   "execution_count": 8,
   "metadata": {
    "tags": []
   },
   "outputs": [
    {
     "output_type": "stream",
     "name": "stdout",
     "text": "False\n"
    }
   ],
   "source": [
    "import pathlib\n",
    "file = pathlib.Path('aaa/bbb.txt')\n",
    "print(file.exists())"
   ]
  },
  {
   "cell_type": "code",
   "execution_count": 9,
   "metadata": {
    "tags": []
   },
   "outputs": [
    {
     "output_type": "stream",
     "name": "stdout",
     "text": "False\n"
    }
   ],
   "source": [
    "import pathlib\n",
    "p = pathlib.Path('aaa/bbb.txt')\n",
    "print(p.is_file())"
   ]
  },
  {
   "cell_type": "code",
   "execution_count": 10,
   "metadata": {
    "tags": []
   },
   "outputs": [
    {
     "output_type": "stream",
     "name": "stdout",
     "text": "False\n"
    }
   ],
   "source": [
    "import pathlib\n",
    "p = pathlib.Path('aaa/bbb.txt')\n",
    "print(p.is_dir())"
   ]
  },
  {
   "cell_type": "code",
   "execution_count": 11,
   "metadata": {
    "tags": []
   },
   "outputs": [
    {
     "output_type": "stream",
     "name": "stdout",
     "text": "\\aaa\\test.txt\n"
    }
   ],
   "source": [
    "import pathlib\n",
    "root = pathlib.Path('/')\n",
    "pp = root / 'aaa' / 'test.txt'\n",
    "print(pp)"
   ]
  },
  {
   "cell_type": "code",
   "execution_count": 12,
   "metadata": {
    "tags": []
   },
   "outputs": [
    {
     "output_type": "stream",
     "name": "stdout",
     "text": "\\aaa\\test.txt\n"
    }
   ],
   "source": [
    "import pathlib\n",
    "p = pathlib.Path('/')\n",
    "pp2 = p.joinpath('aaa','test.txt')\n",
    "print(pp2)"
   ]
  },
  {
   "cell_type": "code",
   "execution_count": 13,
   "metadata": {
    "tags": []
   },
   "outputs": [
    {
     "output_type": "stream",
     "name": "stdout",
     "text": "..\n"
    }
   ],
   "source": [
    "import pathlib\n",
    "p = pathlib.Path('.')\n",
    "pp = p.joinpath('..')\n",
    "print(pp)"
   ]
  },
  {
   "cell_type": "code",
   "execution_count": 14,
   "metadata": {
    "tags": []
   },
   "outputs": [
    {
     "output_type": "stream",
     "name": "stdout",
     "text": "..\n"
    }
   ],
   "source": [
    "import pathlib\n",
    "p = pathlib.Path('.')\n",
    "pp = p.joinpath('..')\n",
    "print(pp)"
   ]
  },
  {
   "cell_type": "code",
   "execution_count": 15,
   "metadata": {
    "tags": []
   },
   "outputs": [
    {
     "output_type": "stream",
     "name": "stdout",
     "text": "jupyter_notebook_config.py\nmy_math.py\nmy_math2.py\nmy_module.py\nout_test.txt\nUntitled.ipynb\nUntitled1.ipynb\nUntitled10.ipynb\nUntitled100.ipynb\nUntitled101.ipynb\nUntitled11.ipynb\nUntitled12.ipynb\nUntitled13.ipynb\nUntitled14.ipynb\nUntitled15.ipynb\nUntitled16.ipynb\nUntitled17.ipynb\nUntitled18.ipynb\nUntitled19.ipynb\nUntitled2.ipynb\nUntitled20.ipynb\nUntitled21.ipynb\nUntitled22.ipynb\nUntitled23.ipynb\nUntitled24.ipynb\nUntitled25.ipynb\nUntitled26.ipynb\nUntitled27.ipynb\nUntitled28.ipynb\nUntitled29.ipynb\nUntitled3.ipynb\nUntitled30.ipynb\nUntitled31.ipynb\nUntitled32.ipynb\nUntitled33.ipynb\nUntitled34.ipynb\nUntitled35.ipynb\nUntitled36.ipynb\nUntitled37.ipynb\nUntitled38.ipynb\nUntitled39.ipynb\nUntitled4.ipynb\nUntitled40.ipynb\nUntitled41.ipynb\nUntitled42.ipynb\nUntitled43.ipynb\nUntitled44.ipynb\nUntitled45.ipynb\nUntitled46.ipynb\nUntitled47.ipynb\nUntitled48.ipynb\nUntitled49.ipynb\nUntitled5.ipynb\nUntitled50.ipynb\nUntitled51.ipynb\nUntitled52.ipynb\nUntitled53.ipynb\nUntitled54.ipynb\nUntitled55.ipynb\nUntitled56.ipynb\nUntitled57.ipynb\nUntitled58.ipynb\nUntitled59.ipynb\nUntitled6.ipynb\nUntitled60.ipynb\nUntitled61.ipynb\nUntitled62.ipynb\nUntitled63.ipynb\nUntitled64.ipynb\nUntitled65.ipynb\nUntitled66.ipynb\nUntitled67.ipynb\nUntitled68.ipynb\nUntitled69.ipynb\nUntitled7.ipynb\nUntitled70.ipynb\nUntitled71.ipynb\nUntitled72.ipynb\nUntitled73.ipynb\nUntitled74.ipynb\nUntitled75.ipynb\nUntitled76.ipynb\nUntitled77.ipynb\nUntitled78.ipynb\nUntitled79.ipynb\nUntitled8.ipynb\nUntitled80.ipynb\nUntitled81.ipynb\nUntitled82.ipynb\nUntitled83.ipynb\nUntitled84.ipynb\nUntitled85.ipynb\nUntitled86.ipynb\nUntitled87.ipynb\nUntitled88.ipynb\nUntitled89.ipynb\nUntitled9.ipynb\nUntitled90.ipynb\nUntitled91.ipynb\nUntitled92.ipynb\nUntitled93.ipynb\nUntitled94.ipynb\nUntitled95.ipynb\nUntitled96.ipynb\nUntitled97.ipynb\nUntitled98.ipynb\nUntitled99.ipynb\n"
    }
   ],
   "source": [
    "import pathlib\n",
    "p = pathlib.Path('.')\n",
    "for pf in p.iterdir():\n",
    "    if pf.is_file():\n",
    "        print(str(pf))"
   ]
  },
  {
   "cell_type": "code",
   "execution_count": 17,
   "metadata": {},
   "outputs": [],
   "source": [
    "import pathlib\n",
    "p = pathlib.Path('.')\n",
    "for pf in p.glob('a*'):\n",
    "    if pf.is_dir():\n",
    "        print(pf)"
   ]
  }
 ]
}