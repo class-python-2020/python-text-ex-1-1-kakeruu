{
 "metadata": {
  "language_info": {
   "codemirror_mode": {
    "name": "ipython",
    "version": 3
   },
   "file_extension": ".py",
   "mimetype": "text/x-python",
   "name": "python",
   "nbconvert_exporter": "python",
   "pygments_lexer": "ipython3",
   "version": "3.8.2-final"
  },
  "orig_nbformat": 2,
  "kernelspec": {
   "name": "python38232bit41e923711097462490982d4db6afe68e",
   "display_name": "Python 3.8.2 32-bit"
  }
 },
 "nbformat": 4,
 "nbformat_minor": 2,
 "cells": [
  {
   "cell_type": "code",
   "execution_count": 1,
   "metadata": {},
   "outputs": [],
   "source": [
    "import sqlite3\n",
    "db = 'sample.db'\n",
    "con = sqlite3.connect(db)\n",
    "csr = con.cursor()\n",
    "sql = 'create table Employee(name,email,department,position);'\n",
    "csr.execute(sql)\n",
    "con.commit()\n",
    "con.close()"
   ]
  },
  {
   "cell_type": "code",
   "execution_count": 2,
   "metadata": {},
   "outputs": [
    {
     "output_type": "error",
     "ename": "OperationalError",
     "evalue": "near \"') \\ values('\": syntax error",
     "traceback": [
      "\u001b[1;31m---------------------------------------------------------------------------\u001b[0m",
      "\u001b[1;31mOperationalError\u001b[0m                          Traceback (most recent call last)",
      "\u001b[1;32m<ipython-input-2-3883a01a6931>\u001b[0m in \u001b[0;36m<module>\u001b[1;34m\u001b[0m\n\u001b[0;32m      4\u001b[0m \u001b[0mcsr\u001b[0m \u001b[1;33m=\u001b[0m \u001b[0mcon\u001b[0m\u001b[1;33m.\u001b[0m\u001b[0mcursor\u001b[0m\u001b[1;33m(\u001b[0m\u001b[1;33m)\u001b[0m\u001b[1;33m\u001b[0m\u001b[1;33m\u001b[0m\u001b[0m\n\u001b[0;32m      5\u001b[0m \u001b[0msql\u001b[0m \u001b[1;33m=\u001b[0m \u001b[1;34m\"insert into Employee(name,mail,department,position') \\ values('yamada','yamada@abcxyz.co.jp','sales','staff');\"\u001b[0m\u001b[1;33m\u001b[0m\u001b[1;33m\u001b[0m\u001b[0m\n\u001b[1;32m----> 6\u001b[1;33m \u001b[0mcsr\u001b[0m\u001b[1;33m.\u001b[0m\u001b[0mexecute\u001b[0m\u001b[1;33m(\u001b[0m\u001b[0msql\u001b[0m\u001b[1;33m)\u001b[0m\u001b[1;33m\u001b[0m\u001b[1;33m\u001b[0m\u001b[0m\n\u001b[0m\u001b[0;32m      7\u001b[0m \u001b[0msql\u001b[0m \u001b[1;33m=\u001b[0m \u001b[1;34m\"insert into Employee(name,mail,department,position') \\ values('suzuki','suzuki@abcxyz.co.jp','sales','staff');\"\u001b[0m\u001b[1;33m\u001b[0m\u001b[1;33m\u001b[0m\u001b[0m\n\u001b[0;32m      8\u001b[0m \u001b[0mcsr\u001b[0m\u001b[1;33m.\u001b[0m\u001b[0mexecute\u001b[0m\u001b[1;33m(\u001b[0m\u001b[0msql\u001b[0m\u001b[1;33m)\u001b[0m\u001b[1;33m\u001b[0m\u001b[1;33m\u001b[0m\u001b[0m\n",
      "\u001b[1;31mOperationalError\u001b[0m: near \"') \\ values('\": syntax error"
     ]
    }
   ],
   "source": [
    "import sqlite3\n",
    "db = 'sample.db'\n",
    "con = sqlite3.connect(db)\n",
    "csr = con.cursor()\n",
    "sql = \"insert into Employee(name,mail,department,position') \\ values('yamada','yamada@abcxyz.co.jp','sales','staff');\"\n",
    "csr.execute(sql)\n",
    "sql = \"insert into Employee(name,mail,department,position') \\ values('suzuki','suzuki@abcxyz.co.jp','sales','staff');\"\n",
    "csr.execute(sql)\n",
    "sql = 'select * from Employee;'\n",
    "csr.execute(sql)\n",
    "print(csr.fetchall())\n",
    "sql = 'delete from Employee where name = \"yamad\";'\n",
    "csr.execute(sql)\n",
    "sql = 'select * from Employee;'\n",
    "csr.execute(sql)\n",
    "print(csr.fetchall())\n",
    "sql = 'update Employee setposition = \"Manager\" where name = \"suzuki\";'\n",
    "csr.execute(sql)\n",
    "con.commit()\n",
    "sql = 'select * from Employee;'\n",
    "csr.execute(sql)\n",
    "print(csr.fetchall())\n",
    "con.close()"
   ]
  },
  {
   "cell_type": "code",
   "execution_count": 3,
   "metadata": {},
   "outputs": [
    {
     "output_type": "error",
     "ename": "OperationalError",
     "evalue": "no such table: data_set",
     "traceback": [
      "\u001b[1;31m---------------------------------------------------------------------------\u001b[0m",
      "\u001b[1;31mOperationalError\u001b[0m                          Traceback (most recent call last)",
      "\u001b[1;32m<ipython-input-3-28c38117db1b>\u001b[0m in \u001b[0;36m<module>\u001b[1;34m\u001b[0m\n\u001b[1;32m----> 1\u001b[1;33m \u001b[0mcsr\u001b[0m\u001b[1;33m.\u001b[0m\u001b[0mexecute\u001b[0m\u001b[1;33m(\u001b[0m\u001b[1;34m'drop table data_set'\u001b[0m\u001b[1;33m)\u001b[0m\u001b[1;33m\u001b[0m\u001b[1;33m\u001b[0m\u001b[0m\n\u001b[0m\u001b[0;32m      2\u001b[0m \u001b[0mcon\u001b[0m\u001b[1;33m.\u001b[0m\u001b[0mcommit\u001b[0m\u001b[1;33m(\u001b[0m\u001b[1;33m)\u001b[0m\u001b[1;33m\u001b[0m\u001b[1;33m\u001b[0m\u001b[0m\n",
      "\u001b[1;31mOperationalError\u001b[0m: no such table: data_set"
     ]
    }
   ],
   "source": [
    "csr.execute('drop table data_set')\n",
    "con.commit()"
   ]
  },
  {
   "cell_type": "code",
   "execution_count": 4,
   "metadata": {
    "tags": []
   },
   "outputs": [
    {
     "output_type": "stream",
     "name": "stdout",
     "text": "[('ichiro', 'Lazer'), ('jiro', None), ('saburo', None)]\n"
    }
   ],
   "source": [
    "import sqlite3\n",
    "db = 'test.db'\n",
    "con = sqlite3.connect(db)\n",
    "csr = con.cursor()\n",
    "csr.execute('create table human(name,nickname);')\n",
    "csr.execute(\"insert into human(name) values('ichiro');\")\n",
    "csr.execute(\"insert into human(name) values('jiro');\")\n",
    "csr.execute(\"insert into human(name) values('saburo');\")\n",
    "csr.execute('update human set nickname = \"Lazer\" where name = \"ichiro\";')\n",
    "csr.execute('select * from human;')\n",
    "print(csr.fetchall())\n",
    "con.commit()\n",
    "con.close()"
   ]
  },
  {
   "cell_type": "code",
   "execution_count": 5,
   "metadata": {
    "tags": []
   },
   "outputs": [
    {
     "output_type": "stream",
     "name": "stdout",
     "text": "[('saburo', None)]\n"
    }
   ],
   "source": [
    "import sqlite3\n",
    "db = 'test.db'\n",
    "con = sqlite3.connect(db)\n",
    "csr = con.cursor()\n",
    "csr.execute('update human set nickname = \"Lazer\" where name = \"jiro\";')\n",
    "csr.execute('delete from human where nickname = \"Lazer\";')\n",
    "csr.execute('select * from human;')\n",
    "print(csr.fetchall())\n",
    "con.commit()\n",
    "con.close()"
   ]
  },
  {
   "cell_type": "code",
   "execution_count": null,
   "metadata": {},
   "outputs": [],
   "source": []
  }
 ]
}