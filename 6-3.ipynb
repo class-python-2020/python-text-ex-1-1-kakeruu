{
 "metadata": {
  "language_info": {
   "codemirror_mode": {
    "name": "ipython",
    "version": 3
   },
   "file_extension": ".py",
   "mimetype": "text/x-python",
   "name": "python",
   "nbconvert_exporter": "python",
   "pygments_lexer": "ipython3",
   "version": "3.8.2-final"
  },
  "orig_nbformat": 2,
  "kernelspec": {
   "name": "python38232bit41e923711097462490982d4db6afe68e",
   "display_name": "Python 3.8.2 32-bit"
  }
 },
 "nbformat": 4,
 "nbformat_minor": 2,
 "cells": [
  {
   "cell_type": "code",
   "execution_count": 3,
   "metadata": {},
   "outputs": [],
   "source": [
    "class Nigiri:\n",
    "    category = '握り'\n",
    "    top = 'ネタ'\n",
    "    base = 'シャリ'\n",
    "    def show_attribute(self):\n",
    "        print('top:{},base:{},category:{}'.format(self.top,self.base,self.category))"
   ]
  },
  {
   "cell_type": "code",
   "execution_count": 4,
   "metadata": {
    "tags": []
   },
   "outputs": [
    {
     "output_type": "stream",
     "name": "stdout",
     "text": "top:ネタ,base:シャリ,category:握り\n"
    }
   ],
   "source": [
    "n1 = Nigiri()\n",
    "n1.show_attribute()"
   ]
  },
  {
   "cell_type": "code",
   "execution_count": 5,
   "metadata": {},
   "outputs": [],
   "source": [
    "class Maguro(Nigiri):\n",
    "    pass"
   ]
  },
  {
   "cell_type": "code",
   "execution_count": 6,
   "metadata": {
    "tags": []
   },
   "outputs": [
    {
     "output_type": "stream",
     "name": "stdout",
     "text": "top:ネタ,base:シャリ,category:握り\n"
    }
   ],
   "source": [
    "m1 = Maguro()\n",
    "m1.show_attribute()"
   ]
  },
  {
   "cell_type": "code",
   "execution_count": 7,
   "metadata": {
    "tags": []
   },
   "outputs": [
    {
     "output_type": "stream",
     "name": "stdout",
     "text": "top:マグロ,base:シャリ,category:握り\n"
    }
   ],
   "source": [
    "class Maguro(Nigiri):\n",
    "    top = 'マグロ'\n",
    "m3 = Maguro()\n",
    "m3.show_attribute()"
   ]
  },
  {
   "cell_type": "code",
   "execution_count": 8,
   "metadata": {
    "tags": []
   },
   "outputs": [
    {
     "output_type": "stream",
     "name": "stdout",
     "text": "top:マグロ,base:シャリ,category:握り\n"
    }
   ],
   "source": [
    "class Maguro(Nigiri):\n",
    "    top = 'マグロ'\n",
    "    price = 100\n",
    "m4 = Maguro()\n",
    "m4.show_attribute()"
   ]
  },
  {
   "cell_type": "code",
   "execution_count": 9,
   "metadata": {
    "tags": []
   },
   "outputs": [
    {
     "output_type": "stream",
     "name": "stdout",
     "text": "base:シャリ,top:マグロ\nprice:100円\n"
    }
   ],
   "source": [
    "class Maguro(Nigiri):\n",
    "    top = 'マグロ'\n",
    "    price = 100\n",
    "    def show_attribute(self):\n",
    "        print('base:{},top:{}'.format(self.base,self.top))\n",
    "        print('price:{}円'.format(self.price))\n",
    "m4 = Maguro()\n",
    "m4.show_attribute()"
   ]
  },
  {
   "cell_type": "code",
   "execution_count": 10,
   "metadata": {
    "tags": []
   },
   "outputs": [
    {
     "output_type": "stream",
     "name": "stdout",
     "text": "top:マグロ,base:シャリ,category:握り\nprince:100円\n"
    }
   ],
   "source": [
    "class Maguro(Nigiri):\n",
    "    top = 'マグロ'\n",
    "    price = 100\n",
    "    def show_attribute(self):\n",
    "        super().show_attribute()\n",
    "        print('prince:{}円'.format(self.price))\n",
    "m5 = Maguro()\n",
    "m5.show_attribute()"
   ]
  },
  {
   "cell_type": "code",
   "execution_count": 11,
   "metadata": {
    "tags": []
   },
   "outputs": [
    {
     "output_type": "stream",
     "name": "stdout",
     "text": "top:マグロ,base:シャリ,category:握り\n1皿(2かん)の値段:200円\n"
    }
   ],
   "source": [
    "class Maguro(Nigiri):\n",
    "    top = 'マグロ'\n",
    "    price = 100\n",
    "    def show_attribute(self):\n",
    "        super().show_attribute()\n",
    "    def show_one_dish_price(self,num_nigiri=2):\n",
    "        result = self.price * num_nigiri\n",
    "        print('1皿({}かん)の値段:{}円'.format(num_nigiri, result))\n",
    "m5 = Maguro()\n",
    "m5.show_attribute()\n",
    "m5.show_one_dish_price()"
   ]
  },
  {
   "cell_type": "code",
   "execution_count": 12,
   "metadata": {},
   "outputs": [],
   "source": [
    "class NigiriNew(Nigiri):\n",
    "    def __init__(self,wasabi='ワサビ抜き'):\n",
    "        self.wasabi = wasabi\n",
    "    def show_attribute(self):\n",
    "        super().show_attribute()\n",
    "        print('wasabi:{}'.format(self.wasabi))"
   ]
  },
  {
   "cell_type": "code",
   "execution_count": 13,
   "metadata": {
    "tags": []
   },
   "outputs": [
    {
     "output_type": "stream",
     "name": "stdout",
     "text": "top:マグロ,base:シャリ,category:握り\nwasabi:ワサビ入り\nprince: 100円\n"
    }
   ],
   "source": [
    "class Maguro(NigiriNew):\n",
    "    top = 'マグロ'\n",
    "    price = 100\n",
    "    def show_attribute(self):\n",
    "        super().show_attribute()\n",
    "        print('prince: {}円'.format(self.price))\n",
    "m6 = Maguro('ワサビ入り')\n",
    "m6.show_attribute()"
   ]
  },
  {
   "cell_type": "code",
   "execution_count": 16,
   "metadata": {
    "tags": []
   },
   "outputs": [
    {
     "output_type": "stream",
     "name": "stdout",
     "text": "Musician リズム・メロ・ハーモニー\nコードをかく\n楽器を演奏する\n"
    }
   ],
   "source": [
    "class Programmer:\n",
    "    def __init__(self):\n",
    "        self.skill = 'プログラミング'\n",
    "        print('programmer',self.skill)\n",
    "    def make_code(self):\n",
    "        print('コードをかく')\n",
    "class Musician:\n",
    "    def __init__(self):\n",
    "        self.skill = 'リズム・メロ・ハーモニー'\n",
    "        print('Musician',self.skill)\n",
    "    def play_instrument(self):\n",
    "        print('楽器を演奏する')\n",
    "class MusicianProgrammer(Musician,Programmer):\n",
    "    pass\n",
    "mp1 = MusicianProgrammer()\n",
    "mp1.make_code()\n",
    "mp1.play_instrument()"
   ]
  },
  {
   "cell_type": "code",
   "execution_count": 17,
   "metadata": {
    "tags": []
   },
   "outputs": [
    {
     "output_type": "stream",
     "name": "stdout",
     "text": "programmer プログラミング\nコードをかく\n楽器を演奏する\n"
    }
   ],
   "source": [
    "class ProgrammerMusician(Programmer,Musician):\n",
    "    pass\n",
    "pm1 = ProgrammerMusician()\n",
    "pm1.make_code()\n",
    "pm1.play_instrument()"
   ]
  },
  {
   "cell_type": "code",
   "execution_count": 19,
   "metadata": {},
   "outputs": [],
   "source": [
    "class Katsuo(Nigiri):\n",
    "    top = 'カツオ'\n",
    "    topping = 'ショウガとネギ'\n",
    "    price = 100\n",
    "    def show_attribute(self):\n",
    "        super().show_attribute()\n",
    "        print('topping:{}'.format(self.tooping))"
   ]
  },
  {
   "cell_type": "code",
   "execution_count": 20,
   "metadata": {},
   "outputs": [
    {
     "output_type": "error",
     "ename": "NameError",
     "evalue": "name 'Rectangle' is not defined",
     "traceback": [
      "\u001b[1;31m---------------------------------------------------------------------------\u001b[0m",
      "\u001b[1;31mNameError\u001b[0m                                 Traceback (most recent call last)",
      "\u001b[1;32m<ipython-input-20-e8eb2bf8921c>\u001b[0m in \u001b[0;36m<module>\u001b[1;34m\u001b[0m\n\u001b[1;32m----> 1\u001b[1;33m \u001b[1;32mclass\u001b[0m \u001b[0mSquare\u001b[0m\u001b[1;33m(\u001b[0m\u001b[0mRectangle\u001b[0m\u001b[1;33m)\u001b[0m\u001b[1;33m:\u001b[0m\u001b[1;33m\u001b[0m\u001b[1;33m\u001b[0m\u001b[0m\n\u001b[0m\u001b[0;32m      2\u001b[0m     \u001b[1;32mdef\u001b[0m \u001b[0m__init__\u001b[0m\u001b[1;33m(\u001b[0m\u001b[0mself\u001b[0m\u001b[1;33m,\u001b[0m\u001b[0mwidth\u001b[0m\u001b[1;33m)\u001b[0m\u001b[1;33m:\u001b[0m\u001b[1;33m\u001b[0m\u001b[1;33m\u001b[0m\u001b[0m\n\u001b[0;32m      3\u001b[0m         \u001b[0msuper\u001b[0m\u001b[1;33m(\u001b[0m\u001b[1;33m)\u001b[0m\u001b[1;33m.\u001b[0m\u001b[0m__init__\u001b[0m\u001b[1;33m(\u001b[0m\u001b[0mwidth\u001b[0m\u001b[1;33m,\u001b[0m\u001b[0mwidth\u001b[0m\u001b[1;33m)\u001b[0m\u001b[1;33m\u001b[0m\u001b[1;33m\u001b[0m\u001b[0m\n\u001b[0;32m      4\u001b[0m         \u001b[0mself\u001b[0m\u001b[1;33m.\u001b[0m\u001b[0mname\u001b[0m \u001b[1;33m=\u001b[0m \u001b[1;34m'square'\u001b[0m\u001b[1;33m\u001b[0m\u001b[1;33m\u001b[0m\u001b[0m\n",
      "\u001b[1;31mNameError\u001b[0m: name 'Rectangle' is not defined"
     ]
    }
   ],
   "source": [
    "class Square(Rectangle):\n",
    "    def __init__(self,width):\n",
    "        super().__init__(width,width)\n",
    "        self.name = 'square'"
   ]
  }
 ]
}