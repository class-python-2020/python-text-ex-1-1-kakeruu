{
 "metadata": {
  "language_info": {
   "codemirror_mode": {
    "name": "ipython",
    "version": 3
   },
   "file_extension": ".py",
   "mimetype": "text/x-python",
   "name": "python",
   "nbconvert_exporter": "python",
   "pygments_lexer": "ipython3",
   "version": "3.8.2-final"
  },
  "orig_nbformat": 2,
  "kernelspec": {
   "name": "python38232bit41e923711097462490982d4db6afe68e",
   "display_name": "Python 3.8.2 32-bit"
  }
 },
 "nbformat": 4,
 "nbformat_minor": 2,
 "cells": [
  {
   "cell_type": "code",
   "execution_count": 1,
   "metadata": {},
   "outputs": [],
   "source": [
    "def show_args(*args):\n",
    "    print('Positional arguments',args)\n",
    "    return args"
   ]
  },
  {
   "cell_type": "code",
   "execution_count": 2,
   "metadata": {
    "tags": []
   },
   "outputs": [
    {
     "output_type": "stream",
     "name": "stdout",
     "text": "Positional arguments (1, 2, 3, 'da!')\n"
    },
    {
     "output_type": "execute_result",
     "data": {
      "text/plain": "(1, 2, 3, 'da!')"
     },
     "metadata": {},
     "execution_count": 2
    }
   ],
   "source": [
    "show_args(1,2,3,'da!')"
   ]
  },
  {
   "cell_type": "code",
   "execution_count": 3,
   "metadata": {},
   "outputs": [],
   "source": [
    "def show_kwargs(**kwargs):\n",
    "    print('Keyword arguments',kwargs)\n",
    "    return kwargs"
   ]
  },
  {
   "cell_type": "code",
   "execution_count": 4,
   "metadata": {
    "tags": []
   },
   "outputs": [
    {
     "output_type": "stream",
     "name": "stdout",
     "text": "Keyword arguments {'pasta': 'ペンネ', 'drink': '赤ワイン', 'main_dish': '肉料理', 'n_customers': 3}\n"
    },
    {
     "output_type": "execute_result",
     "data": {
      "text/plain": "{'pasta': 'ペンネ', 'drink': '赤ワイン', 'main_dish': '肉料理', 'n_customers': 3}"
     },
     "metadata": {},
     "execution_count": 4
    }
   ],
   "source": [
    "show_kwargs(pasta='ペンネ',drink='赤ワイン',main_dish='肉料理',n_customers=3)"
   ]
  },
  {
   "cell_type": "code",
   "execution_count": 5,
   "metadata": {
    "tags": []
   },
   "outputs": [
    {
     "output_type": "stream",
     "name": "stdout",
     "text": "Positional arguments (4, 5, 6, 'ya')\n"
    },
    {
     "output_type": "execute_result",
     "data": {
      "text/plain": "(4, 5, 6, 'ya')"
     },
     "metadata": {},
     "execution_count": 5
    }
   ],
   "source": [
    "positional_args = (4,5,6,'ya')\n",
    "show_args(*positional_args)"
   ]
  },
  {
   "cell_type": "code",
   "execution_count": 6,
   "metadata": {
    "tags": []
   },
   "outputs": [
    {
     "output_type": "stream",
     "name": "stdout",
     "text": "Positional arguments (4, 5, 6, 'ya')\n"
    },
    {
     "output_type": "execute_result",
     "data": {
      "text/plain": "(4, 5, 6, 'ya')"
     },
     "metadata": {},
     "execution_count": 6
    }
   ],
   "source": [
    "positional_args = [4,5,6,'ya']\n",
    "show_args(*positional_args)"
   ]
  },
  {
   "cell_type": "code",
   "execution_count": 9,
   "metadata": {
    "tags": []
   },
   "outputs": [
    {
     "output_type": "stream",
     "name": "stdout",
     "text": "Keyword arguments {'pasta': 'ペンネ', 'drink': '赤ワイン', 'main_dish': '肉料理', 'n_customers': 3}\n"
    },
    {
     "output_type": "execute_result",
     "data": {
      "text/plain": "{'pasta': 'ペンネ', 'drink': '赤ワイン', 'main_dish': '肉料理', 'n_customers': 3}"
     },
     "metadata": {},
     "execution_count": 9
    }
   ],
   "source": [
    "keyword_args = {'pasta':'ペンネ','drink':'赤ワイン','main_dish':'肉料理','n_customers':3}\n",
    "show_kwargs(**keyword_args)"
   ]
  },
  {
   "cell_type": "code",
   "execution_count": 11,
   "metadata": {},
   "outputs": [],
   "source": [
    "def concat_words(*args,separator=''):\n",
    "    return separator.join(args)"
   ]
  },
  {
   "cell_type": "code",
   "execution_count": 13,
   "metadata": {},
   "outputs": [
    {
     "output_type": "execute_result",
     "data": {
      "text/plain": "[1, 4, 9, 16]"
     },
     "metadata": {},
     "execution_count": 13
    }
   ],
   "source": [
    "def func_square(*args):\n",
    "    results = []\n",
    "    for n in args:\n",
    "        results.append(n*n)\n",
    "    return results\n",
    "\n",
    "numbers = [1,2,3,4]\n",
    "func_square(*numbers)"
   ]
  }
 ]
}